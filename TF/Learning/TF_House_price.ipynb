{
 "cells": [
  {
   "cell_type": "code",
   "execution_count": 21,
   "id": "3803126d",
   "metadata": {},
   "outputs": [],
   "source": [
    "import numpy as np\n",
    "import tensorflow as tf\n",
    "# surpass tensorflow build warning\n",
    "import os\n",
    "os.environ['TF_CPP_MIN_LOG_LEVEL'] = '2'"
   ]
  },
  {
   "cell_type": "code",
   "execution_count": 73,
   "id": "0db90261",
   "metadata": {},
   "outputs": [],
   "source": [
    "model = tf.keras.Sequential([\n",
    "    tf.keras.layers.Dense(units=1 , input_shape=[1])\n",
    "]\n",
    ")\n",
    "model.compile(optimizer='sgd' , loss='mean_squared_error')"
   ]
  },
  {
   "cell_type": "code",
   "execution_count": 74,
   "id": "234fbd3e",
   "metadata": {},
   "outputs": [],
   "source": [
    "x = np.array([-1.0, 0.0, 1.0, 2.0, 3.0, 4.0], dtype=float)\n",
    "y = np.array([-3.0, -1.0, 1.0, 3.0, 5.0, 7.0], dtype=float)"
   ]
  },
  {
   "cell_type": "code",
   "execution_count": 75,
   "id": "fa8985fe",
   "metadata": {},
   "outputs": [
    {
     "name": "stdout",
     "output_type": "stream",
     "text": [
      "Train on 6 samples\n",
      "Epoch 1/50\n",
      "6/6 [==============================] - 0s 31ms/sample - loss: 50.8115\n",
      "Epoch 2/50\n",
      "6/6 [==============================] - 0s 176us/sample - loss: 40.3732\n",
      "Epoch 3/50\n",
      "6/6 [==============================] - 0s 155us/sample - loss: 32.1526\n",
      "Epoch 4/50\n",
      "6/6 [==============================] - 0s 172us/sample - loss: 25.6772\n",
      "Epoch 5/50\n",
      "6/6 [==============================] - 0s 150us/sample - loss: 20.5747\n",
      "Epoch 6/50\n",
      "6/6 [==============================] - 0s 168us/sample - loss: 16.5527\n",
      "Epoch 7/50\n",
      "6/6 [==============================] - 0s 135us/sample - loss: 13.3809\n",
      "Epoch 8/50\n",
      "6/6 [==============================] - 0s 148us/sample - loss: 10.8781\n",
      "Epoch 9/50\n",
      "6/6 [==============================] - 0s 148us/sample - loss: 8.9018\n",
      "Epoch 10/50\n",
      "6/6 [==============================] - 0s 201us/sample - loss: 7.3399\n",
      "Epoch 11/50\n",
      "6/6 [==============================] - 0s 301us/sample - loss: 6.1042\n",
      "Epoch 12/50\n",
      "6/6 [==============================] - 0s 271us/sample - loss: 5.1252\n",
      "Epoch 13/50\n",
      "6/6 [==============================] - 0s 273us/sample - loss: 4.3483\n",
      "Epoch 14/50\n",
      "6/6 [==============================] - 0s 276us/sample - loss: 3.7306\n",
      "Epoch 15/50\n",
      "6/6 [==============================] - 0s 214us/sample - loss: 3.2383\n",
      "Epoch 16/50\n",
      "6/6 [==============================] - 0s 186us/sample - loss: 2.8448\n",
      "Epoch 17/50\n",
      "6/6 [==============================] - 0s 184us/sample - loss: 2.5290\n",
      "Epoch 18/50\n",
      "6/6 [==============================] - 0s 170us/sample - loss: 2.2746\n",
      "Epoch 19/50\n",
      "6/6 [==============================] - 0s 225us/sample - loss: 2.0687\n",
      "Epoch 20/50\n",
      "6/6 [==============================] - 0s 187us/sample - loss: 1.9009\n",
      "Epoch 21/50\n",
      "6/6 [==============================] - 0s 143us/sample - loss: 1.7632\n",
      "Epoch 22/50\n",
      "6/6 [==============================] - 0s 139us/sample - loss: 1.6495\n",
      "Epoch 23/50\n",
      "6/6 [==============================] - 0s 319us/sample - loss: 1.5546\n",
      "Epoch 24/50\n",
      "6/6 [==============================] - 0s 262us/sample - loss: 1.4746\n",
      "Epoch 25/50\n",
      "6/6 [==============================] - 0s 199us/sample - loss: 1.4066\n",
      "Epoch 26/50\n",
      "6/6 [==============================] - 0s 175us/sample - loss: 1.3480\n",
      "Epoch 27/50\n",
      "6/6 [==============================] - 0s 235us/sample - loss: 1.2969\n",
      "Epoch 28/50\n",
      "6/6 [==============================] - 0s 213us/sample - loss: 1.2519\n",
      "Epoch 29/50\n",
      "6/6 [==============================] - 0s 168us/sample - loss: 1.2117\n",
      "Epoch 30/50\n",
      "6/6 [==============================] - 0s 313us/sample - loss: 1.1754\n",
      "Epoch 31/50\n",
      "6/6 [==============================] - 0s 405us/sample - loss: 1.1423\n",
      "Epoch 32/50\n",
      "6/6 [==============================] - 0s 337us/sample - loss: 1.1118\n",
      "Epoch 33/50\n",
      "6/6 [==============================] - 0s 493us/sample - loss: 1.0834\n",
      "Epoch 34/50\n",
      "6/6 [==============================] - 0s 470us/sample - loss: 1.0568\n",
      "Epoch 35/50\n",
      "6/6 [==============================] - 0s 228us/sample - loss: 1.0316\n",
      "Epoch 36/50\n",
      "6/6 [==============================] - 0s 417us/sample - loss: 1.0078\n",
      "Epoch 37/50\n",
      "6/6 [==============================] - 0s 256us/sample - loss: 0.9849\n",
      "Epoch 38/50\n",
      "6/6 [==============================] - 0s 372us/sample - loss: 0.9630\n",
      "Epoch 39/50\n",
      "6/6 [==============================] - 0s 268us/sample - loss: 0.9419\n",
      "Epoch 40/50\n",
      "6/6 [==============================] - 0s 323us/sample - loss: 0.9216\n",
      "Epoch 41/50\n",
      "6/6 [==============================] - 0s 302us/sample - loss: 0.9018\n",
      "Epoch 42/50\n",
      "6/6 [==============================] - 0s 281us/sample - loss: 0.8826\n",
      "Epoch 43/50\n",
      "6/6 [==============================] - 0s 341us/sample - loss: 0.8640\n",
      "Epoch 44/50\n",
      "6/6 [==============================] - 0s 361us/sample - loss: 0.8459\n",
      "Epoch 45/50\n",
      "6/6 [==============================] - 0s 324us/sample - loss: 0.8282\n",
      "Epoch 46/50\n",
      "6/6 [==============================] - 0s 979us/sample - loss: 0.8109\n",
      "Epoch 47/50\n",
      "6/6 [==============================] - 0s 510us/sample - loss: 0.7941\n",
      "Epoch 48/50\n",
      "6/6 [==============================] - 0s 366us/sample - loss: 0.7776\n",
      "Epoch 49/50\n",
      "6/6 [==============================] - 0s 285us/sample - loss: 0.7615\n",
      "Epoch 50/50\n",
      "6/6 [==============================] - 0s 237us/sample - loss: 0.7458\n"
     ]
    },
    {
     "data": {
      "text/plain": [
       "<tensorflow.python.keras.callbacks.History at 0x7fa4b00a8410>"
      ]
     },
     "execution_count": 75,
     "metadata": {},
     "output_type": "execute_result"
    }
   ],
   "source": [
    "model.fit(x, y, epochs=50)"
   ]
  },
  {
   "cell_type": "code",
   "execution_count": 76,
   "id": "02589545",
   "metadata": {},
   "outputs": [
    {
     "data": {
      "text/plain": [
       "array([[5.013513]], dtype=float32)"
      ]
     },
     "execution_count": 76,
     "metadata": {},
     "output_type": "execute_result"
    }
   ],
   "source": [
    "model.predict(np.array([3.0], dtype=float))"
   ]
  },
  {
   "cell_type": "code",
   "execution_count": null,
   "id": "2e8468a1",
   "metadata": {},
   "outputs": [],
   "source": []
  }
 ],
 "metadata": {
  "kernelspec": {
   "display_name": "Python 3 (ipykernel)",
   "language": "python",
   "name": "python3"
  },
  "language_info": {
   "codemirror_mode": {
    "name": "ipython",
    "version": 3
   },
   "file_extension": ".py",
   "mimetype": "text/x-python",
   "name": "python",
   "nbconvert_exporter": "python",
   "pygments_lexer": "ipython3",
   "version": "3.7.13"
  }
 },
 "nbformat": 4,
 "nbformat_minor": 5
}
