{
 "cells": [
  {
   "cell_type": "code",
   "execution_count": null,
   "id": "a79ed4cf",
   "metadata": {},
   "outputs": [],
   "source": [
    "# dataset used https://laurencemoroney.com/datasets.html#google_vignette\n",
    "import numpy as np\n",
    "import matplotlib.pyplot as plt\n",
    "import matplotlib.image as mpimg\n",
    "import tensorflow as tf\n",
    "from   tensorflow.keras.models import Sequential\n",
    "from   tensorflow.keras.layers import Conv2D,Dense,MaxPooling2D,Flatten\n",
    "from   tensorflow.keras.optimizers import Adam\n",
    "from   tensorflow.keras.losses import CategoricalCrossentropy\n",
    "from   tensorflow.keras.preprocessing import image\n",
    "from   tensorflow.keras.preprocessing.image import ImageDataGenerator,img_to_array,load_img"
   ]
  },
  {
   "cell_type": "code",
   "execution_count": null,
   "id": "8af64d71",
   "metadata": {},
   "outputs": [],
   "source": [
    "import os, signal\n",
    "os.environ['TF_CPP_MIN_LOG_LEVEL'] = '2'"
   ]
  },
  {
   "cell_type": "code",
   "execution_count": null,
   "id": "9c249d08",
   "metadata": {},
   "outputs": [],
   "source": [
    "model = Sequential([\n",
    "    Conv2D(64, (3,3), activation = 'relu', input_shape = (150,150,3)),\n",
    "    MaxPooling2D(2,2),\n",
    "    Conv2D(64, (3,3), activation = 'relu'),\n",
    "    MaxPooling2D(2,2),\n",
    "    Conv2D(128, (3,3), activation='relu'),\n",
    "    MaxPooling2D(2,2),\n",
    "    Conv2D(128, (3,3), activation='relu'),\n",
    "    MaxPooling2D(2,2),\n",
    "    Conv2D(128, (3,3), activation='relu'),\n",
    "    MaxPooling2D(2,2),\n",
    "    \n",
    "    #Fully connected layers\n",
    "    Flatten(),\n",
    "    Dense(512, activation='relu'),\n",
    "    Dense(3, activation='softmax')    \n",
    "])"
   ]
  },
  {
   "cell_type": "code",
   "execution_count": null,
   "id": "f2887f1f",
   "metadata": {},
   "outputs": [],
   "source": [
    "model.summary()"
   ]
  },
  {
   "cell_type": "code",
   "execution_count": null,
   "id": "165f31ec",
   "metadata": {},
   "outputs": [],
   "source": [
    "model.compile(optimizer = Adam() , loss = CategoricalCrossentropy()  )"
   ]
  },
  {
   "cell_type": "code",
   "execution_count": null,
   "id": "b227d9aa",
   "metadata": {},
   "outputs": [],
   "source": [
    "path = '../data/rps/rps/'\n",
    "image_generator = ImageDataGenerator(rescale = 1/255,\n",
    "      rotation_range=40,\n",
    "      width_shift_range=0.2,\n",
    "      height_shift_range=0.2,\n",
    "      shear_range=0.2,\n",
    "      zoom_range=0.2,\n",
    "      horizontal_flip=True,\n",
    "      fill_mode='nearest')\n",
    "\n",
    "train_generator = image_generator.flow_from_directory(\n",
    "    path,\n",
    "    target_size = (150, 150) ,\n",
    "    batch_size = 126 ,\n",
    "    class_mode= 'categorical'\n",
    ")\n",
    "path = '../data/rps/rps-test-set/'\n",
    "\n",
    "validation_generator = image_generator.flow_from_directory(\n",
    "    path,\n",
    "    target_size = (150, 150) ,\n",
    "    batch_size = 126 ,\n",
    "    class_mode= 'categorical'\n",
    ")\n"
   ]
  },
  {
   "cell_type": "code",
   "execution_count": null,
   "id": "7536bc77",
   "metadata": {},
   "outputs": [],
   "source": [
    "model.fit(train_generator, steps_per_epoch = 20, epochs = 25, verbose=1, validation_data =validation_generator, validation_steps = 3 )"
   ]
  },
  {
   "cell_type": "code",
   "execution_count": null,
   "id": "ecde68cc",
   "metadata": {},
   "outputs": [],
   "source": [
    "import os, signal\n",
    "os.kill(os.getpid(), signal.SIGKILL)"
   ]
  }
 ],
 "metadata": {
  "kernelspec": {
   "display_name": "Python 3 (ipykernel)",
   "language": "python",
   "name": "python3"
  },
  "language_info": {
   "codemirror_mode": {
    "name": "ipython",
    "version": 3
   },
   "file_extension": ".py",
   "mimetype": "text/x-python",
   "name": "python",
   "nbconvert_exporter": "python",
   "pygments_lexer": "ipython3",
   "version": "3.7.13"
  }
 },
 "nbformat": 4,
 "nbformat_minor": 5
}
