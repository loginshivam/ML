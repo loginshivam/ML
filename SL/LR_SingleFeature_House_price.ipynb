{
 "cells": [
  {
   "cell_type": "code",
   "execution_count": 10,
   "metadata": {},
   "outputs": [],
   "source": [
    "#Linear regression with single feature\n",
    "#Cost function - mean squared error - convex - single minimum\n",
    "#gradient decent algo for minimizing cost\n",
    "import numpy as np\n",
    "import matplotlib.pyplot as plt\n",
    "area  = np.array([1, 1.1, 1.2, 1.4, 1.5, 1.6, 2.0, 2.3, 2.5, 2.6, 4.0])\n",
    "price = np.array([105, 115, 128, 138, 145, 158, 190, 210, 230, 240, 350])"
   ]
  },
  {
   "cell_type": "code",
   "execution_count": 11,
   "metadata": {},
   "outputs": [
    {
     "data": {
      "text/plain": [
       "<matplotlib.collections.PathCollection at 0x7fc469e4b250>"
      ]
     },
     "execution_count": 11,
     "metadata": {},
     "output_type": "execute_result"
    },
    {
     "data": {
      "image/png": "[encoded data removed]",
      "text/plain": [
       "<Figure size 432x288 with 1 Axes>"
      ]
     },
     "metadata": {
      "needs_background": "light"
     },
     "output_type": "display_data"
    }
   ],
   "source": [
    "#Plot training data \n",
    "fig,ax = plt.subplots()\n",
    "ax.scatter(area,price)"
   ]
  },
  {
   "cell_type": "code",
   "execution_count": 12,
   "metadata": {},
   "outputs": [],
   "source": [
    "#Regression  - linear function - f = wx + b & cost function mean square error\n",
    "def cost_function(x,y,w,b):\n",
    "    train_count = x.shape[0] # get the number of training example\n",
    "    cost = 0\n",
    "    for i in range(train_count):\n",
    "        f_wb = w * x[i] + b - y[i]\n",
    "        f_wb = f_wb ** 2\n",
    "        cost += f_wb\n",
    "    return 1 / (2 * train_count) * cost\n",
    "        "
   ]
  },
  {
   "cell_type": "code",
   "execution_count": 13,
   "metadata": {},
   "outputs": [
    {
     "data": {
      "text/plain": [
       "19039.409090909092"
      ]
     },
     "execution_count": 13,
     "metadata": {},
     "output_type": "execute_result"
    }
   ],
   "source": [
    "cost_function(area,price,0,0)"
   ]
  },
  {
   "cell_type": "code",
   "execution_count": 14,
   "metadata": {},
   "outputs": [],
   "source": [
    "#gradient_decent\n",
    "def gradient_decent(x,y,w,b,alpha):\n",
    "    train_count = x.shape[0]\n",
    "    dw = 0 \n",
    "    db = 0\n",
    "    for i in range(train_count):\n",
    "        f_wb = w * x[i] + b - y[i]\n",
    "        dw += f_wb * x[i]\n",
    "        db += f_wb\n",
    "    \n",
    "    w -= (alpha * dw)/train_count\n",
    "    b -= (alpha * db)/train_count\n",
    "    \n",
    "    return (w,b)\n",
    "        \n",
    "    "
   ]
  },
  {
   "cell_type": "code",
   "execution_count": 15,
   "metadata": {},
   "outputs": [
    {
     "data": {
      "text/plain": [
       "(66.34123636363637, 82.38327272727273)"
      ]
     },
     "execution_count": 15,
     "metadata": {},
     "output_type": "execute_result"
    }
   ],
   "source": [
    "gradient_decent(area,price,81,90,0.12)"
   ]
  },
  {
   "cell_type": "code",
   "execution_count": 19,
   "metadata": {},
   "outputs": [],
   "source": [
    "def train_model(x,y,w,b,alpha,itr):\n",
    "    cost = []\n",
    "    for i in range(itr):\n",
    "        cost.append(cost_function(x,y,w,b)) #store to see how its moving towrds local min\n",
    "        w, b = gradient_decent(x,y,w,b,alpha)\n",
    "        #print (f\"Iteration number - {i} w = {w} , b = {b} \")\n",
    "    print(\"Final value w -> \" , w)\n",
    "    print(\"Final value b -> \" , b)\n",
    "    return (w,b)"
   ]
  },
  {
   "cell_type": "code",
   "execution_count": 20,
   "metadata": {},
   "outputs": [
    {
     "name": "stdout",
     "output_type": "stream",
     "text": [
      "Final value w ->  81.24190564292306\n",
      "Final value b ->  26.06105457909377\n"
     ]
    }
   ],
   "source": [
    "alpha = 0.08\n",
    "w = 0\n",
    "b = 0\n",
    "iteration = 100000\n",
    "w_final, b_final = train_model(area,price,w,b,alpha,iteration)"
   ]
  },
  {
   "cell_type": "code",
   "execution_count": 21,
   "metadata": {},
   "outputs": [
    {
     "name": "stdout",
     "output_type": "stream",
     "text": [
      "184.48277058279373\n"
     ]
    }
   ],
   "source": [
    "predict_price = w_final * 1.95 + b_final\n",
    "print(predict_price)"
   ]
  }
 ],
 "metadata": {
  "kernelspec": {
   "display_name": "Python 3",
   "language": "python",
   "name": "python3"
  },
  "language_info": {
   "codemirror_mode": {
    "name": "ipython",
    "version": 3
   },
   "file_extension": ".py",
   "mimetype": "text/x-python",
   "name": "python",
   "nbconvert_exporter": "python",
   "pygments_lexer": "ipython3",
   "version": "3.8.5"
  }
 },
 "nbformat": 4,
 "nbformat_minor": 4
}
