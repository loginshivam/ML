{
 "cells": [
  {
   "cell_type": "code",
   "execution_count": 109,
   "metadata": {},
   "outputs": [],
   "source": [
    "#Linear regression with multiple feature\n",
    "import numpy as np\n",
    "#area,bedroom,washroom\n",
    "house = np.array([[1.1,2,2],[1.2,2,2],[1.5,2,3],[1.6,3,4],[2.0,4,4],[2.2,4,5],[2.5,4,5]])\n",
    "price = np.array([110,130,160,180,220,240,280])"
   ]
  },
  {
   "cell_type": "code",
   "execution_count": 110,
   "metadata": {},
   "outputs": [
    {
     "data": {
      "text/plain": [
       "<matplotlib.collections.PathCollection at 0x7fc1280c1460>"
      ]
     },
     "execution_count": 110,
     "metadata": {},
     "output_type": "execute_result"
    },
    {
     "data": {
      "image/png": "[encoded data removed]",
      "text/plain": [
       "<Figure size 432x288 with 1 Axes>"
      ]
     },
     "metadata": {
      "needs_background": "light"
     },
     "output_type": "display_data"
    }
   ],
   "source": [
    "import matplotlib.pyplot as plt\n",
    "fig,ax = plt.subplots()\n",
    "ax.scatter(house[:,0],price)"
   ]
  },
  {
   "cell_type": "code",
   "execution_count": 111,
   "metadata": {},
   "outputs": [],
   "source": [
    "#mean squared error function\n",
    "def cost_function(x,y,w,b):\n",
    "    ts_count = x.shape[0]\n",
    "    cost = 0\n",
    "    for i in range(ts_count):\n",
    "        err = np.dot(x[i],w) + b - y[i]\n",
    "        err = err ** 2\n",
    "        cost += err\n",
    "    return 1 / (2 * ts_count) * cost"
   ]
  },
  {
   "cell_type": "code",
   "execution_count": 112,
   "metadata": {},
   "outputs": [
    {
     "data": {
      "text/plain": [
       "4698.214285714285"
      ]
     },
     "execution_count": 112,
     "metadata": {},
     "output_type": "execute_result"
    }
   ],
   "source": [
    "cost_function(house,price,[10,20,30],100)"
   ]
  },
  {
   "cell_type": "code",
   "execution_count": 113,
   "metadata": {},
   "outputs": [],
   "source": [
    "# gradient descend\n",
    "def gradient_descent(x,y,w,b):\n",
    "    ts_count = x.shape[0]\n",
    "    dw = np.zeros(w.shape[0])\n",
    "    db = 0\n",
    "    for i in range(ts_count):\n",
    "        err = np.dot(x[i], w) + b - y[i]\n",
    "        dw += err * x[i]\n",
    "        db += err\n",
    "    return (dw/ts_count,db/ts_count)        "
   ]
  },
  {
   "cell_type": "code",
   "execution_count": 114,
   "metadata": {},
   "outputs": [
    {
     "data": {
      "text/plain": [
       "(array([26.92857143, 50.28571429, 60.        ]), 15.857142857142858)"
      ]
     },
     "execution_count": 114,
     "metadata": {},
     "output_type": "execute_result"
    }
   ],
   "source": [
    "gradient_descent(house,price,np.array([10,20,30]),20)"
   ]
  },
  {
   "cell_type": "code",
   "execution_count": 115,
   "metadata": {},
   "outputs": [],
   "source": [
    "def train(x,y,w,b,alpha,itr):\n",
    "    cost_history = []\n",
    "    for i in range(itr):\n",
    "        cost_history.append(cost_function(x,y,w,b))\n",
    "        dw , db = gradient_descent(x,y,w,b)\n",
    "        w -= alpha * dw\n",
    "        b -= alpha * db\n",
    "    print(f\"Final value after iteration {itr} -> w_final =  {w} , b_final = {b} \")\n",
    "    return (w,b)"
   ]
  },
  {
   "cell_type": "code",
   "execution_count": 116,
   "metadata": {},
   "outputs": [
    {
     "name": "stdout",
     "output_type": "stream",
     "text": [
      "Final value after iteration 9500 -> w_final =  [106.61420753   0.42388688   3.98868351] , b_final = -11.215286907464822 \n"
     ]
    }
   ],
   "source": [
    "alpha = 0.021\n",
    "itr = 9500 #after this learning is to slow \n",
    "w = np.array([0.0,0.0,0.0])\n",
    "b = 0\n",
    "w_final , b_final = train(house, price, w, b, alpha, itr)"
   ]
  },
  {
   "cell_type": "code",
   "execution_count": 117,
   "metadata": {},
   "outputs": [
    {
     "data": {
      "text/plain": [
       "205.01330544867136"
      ]
     },
     "execution_count": 117,
     "metadata": {},
     "output_type": "execute_result"
    }
   ],
   "source": [
    "p_price = np.array([1.9,4,3])\n",
    "predict_price = np.dot(p_price,w_final) + b_final\n",
    "predict_price"
   ]
  }
 ],
 "metadata": {
  "kernelspec": {
   "display_name": "Python 3",
   "language": "python",
   "name": "python3"
  },
  "language_info": {
   "codemirror_mode": {
    "name": "ipython",
    "version": 3
   },
   "file_extension": ".py",
   "mimetype": "text/x-python",
   "name": "python",
   "nbconvert_exporter": "python",
   "pygments_lexer": "ipython3",
   "version": "3.8.5"
  }
 },
 "nbformat": 4,
 "nbformat_minor": 4
}
