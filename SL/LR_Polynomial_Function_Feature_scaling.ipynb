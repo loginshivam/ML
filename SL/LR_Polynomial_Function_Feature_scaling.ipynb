{
 "cells": [
  {
   "cell_type": "code",
   "execution_count": 142,
   "metadata": {},
   "outputs": [],
   "source": [
    "#Polynomial for regression \n",
    "#For learning only not a best function for fitting this data\n",
    "#Feature scaling - If data is not scalled numpy will be unable to work on higher order value \n",
    "import numpy as np\n",
    "area = np.array([1.1, 4.0, 6.0, 7, 8, 9, 12, 13.0, 14, 15, 18, 20, 21, 22, 23, 25, 26, 26, 28,29])\n",
    "price = np.array([100, 200, 260, 280, 300, 320, 340, 342, 343, 345, 370, 375, 380, 400, 410, 420, 430, 440, 450, 470])\n",
    "avg = np.average(area)\n",
    "area = area / avg"
   ]
  },
  {
   "cell_type": "code",
   "execution_count": 143,
   "metadata": {},
   "outputs": [
    {
     "data": {
      "text/plain": [
       "<matplotlib.collections.PathCollection at 0x7fda604b1eb0>"
      ]
     },
     "execution_count": 143,
     "metadata": {},
     "output_type": "execute_result"
    },
    {
     "data": {
      "image/png": "[encoded data removed]",
      "text/plain": [
       "<Figure size 432x288 with 1 Axes>"
      ]
     },
     "metadata": {
      "needs_background": "light"
     },
     "output_type": "display_data"
    }
   ],
   "source": [
    "import matplotlib.pyplot as plt\n",
    "fig, ax = plt.subplots()\n",
    "ax.scatter(area,price)"
   ]
  },
  {
   "cell_type": "code",
   "execution_count": 144,
   "metadata": {},
   "outputs": [],
   "source": [
    "def cost_function(x, y, w, b):\n",
    "    ts_count = x.shape[0]\n",
    "    cost = 0\n",
    "    for i in range(ts_count):\n",
    "        x_tmp = np.array([x[i], x[i] ** 2 , x[i] ** 3])\n",
    "        err = np.dot(w, x_tmp) + b - y[i]\n",
    "        cost += err ** 2\n",
    "    return 1 / (2 * ts_count) * cost"
   ]
  },
  {
   "cell_type": "code",
   "execution_count": 146,
   "metadata": {},
   "outputs": [
    {
     "data": {
      "text/plain": [
       "63763.17045934094"
      ]
     },
     "execution_count": 146,
     "metadata": {},
     "output_type": "execute_result"
    }
   ],
   "source": [
    "cost_function(area, price , np.array([0.1, 0.2, 0.3]), 1.5)"
   ]
  },
  {
   "cell_type": "code",
   "execution_count": 147,
   "metadata": {},
   "outputs": [],
   "source": [
    "def gradient_descent(x, y, w, b):\n",
    "    tc_count = x.shape[0]\n",
    "    \n",
    "    dw = np.zeros([w.shape[0]])\n",
    "    db = 0\n",
    "    \n",
    "    for i in range(tc_count):\n",
    "        x_tmp = np.array([x[i], x[i] ** 2 , x[i] ** 3 ])\n",
    "        err = np.dot(w, x_tmp) + b - y[i]\n",
    "        db += err\n",
    "        dw += err * x_tmp\n",
    "    \n",
    "    return (dw / tc_count , db / tc_count)"
   ]
  },
  {
   "cell_type": "code",
   "execution_count": 148,
   "metadata": {},
   "outputs": [
    {
     "data": {
      "text/plain": [
       "(array([-388.84545614, -514.57041623, -739.50138583]), -346.8659921246817)"
      ]
     },
     "execution_count": 148,
     "metadata": {},
     "output_type": "execute_result"
    }
   ],
   "source": [
    "gradient_descent(area, price, np.array([0.1, 0.2, 0.3]),1)"
   ]
  },
  {
   "cell_type": "code",
   "execution_count": 149,
   "metadata": {},
   "outputs": [],
   "source": [
    "def train(x, y, w, b, alpha, itr):\n",
    "    j_history = []\n",
    "    for i in range(itr):\n",
    "        #j_history.append(cost_function(x, y, w, b)) \n",
    "        w_tmp , b_tmp = gradient_descent(x, y, w, b)\n",
    "        w -= alpha * w_tmp\n",
    "        b -= alpha * b_tmp\n",
    "    return (w , b)"
   ]
  },
  {
   "cell_type": "code",
   "execution_count": 158,
   "metadata": {},
   "outputs": [
    {
     "name": "stdout",
     "output_type": "stream",
     "text": [
      "Final w ->  [ 381.54258218 -187.69342079   42.84760813] b final ->  128.60509289353044\n"
     ]
    }
   ],
   "source": [
    "itr = 50000\n",
    "alpha = 0.012\n",
    "w = np.zeros(3)\n",
    "b = 0 \n",
    "w_final , b_final = train(area, price, w, b, alpha, itr)\n",
    "print(f\"Final w ->  {w_final} b final ->  {b_final}\")"
   ]
  },
  {
   "cell_type": "code",
   "execution_count": 159,
   "metadata": {},
   "outputs": [
    {
     "name": "stdout",
     "output_type": "stream",
     "text": [
      "Predicted price -> 313.3531803451048\n"
     ]
    }
   ],
   "source": [
    "area_p = 11 / avg\n",
    "area_p = np.array([area_p , area_p ** 2 , area_p ** 3])\n",
    "predict_price = np.dot(w_final, area_p) + b_final\n",
    "print(f\"Predicted price -> {predict_price}\")"
   ]
  }
 ],
 "metadata": {
  "kernelspec": {
   "display_name": "Python 3",
   "language": "python",
   "name": "python3"
  },
  "language_info": {
   "codemirror_mode": {
    "name": "ipython",
    "version": 3
   },
   "file_extension": ".py",
   "mimetype": "text/x-python",
   "name": "python",
   "nbconvert_exporter": "python",
   "pygments_lexer": "ipython3",
   "version": "3.8.5"
  }
 },
 "nbformat": 4,
 "nbformat_minor": 4
}
