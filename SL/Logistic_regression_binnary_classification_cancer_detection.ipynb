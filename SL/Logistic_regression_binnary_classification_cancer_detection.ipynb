{
 "cells": [
  {
   "cell_type": "code",
   "execution_count": 1,
   "metadata": {},
   "outputs": [],
   "source": [
    "#logistic regression/binnary classification \n",
    "#two feature z = w1x1 + w2x2 + b\n",
    "#probability(y=1|x; w,b) \n",
    "#classification\n",
    "import numpy as np\n",
    "x_train = np.array([[0.5, 1.5], [1,1], [1.5, 0.5], [3, 0.5], [2, 2], [1, 2.5]])  #(m,n)\n",
    "y_train = np.array([0, 0, 0, 1, 1, 1]) "
   ]
  },
  {
   "cell_type": "code",
   "execution_count": 2,
   "metadata": {},
   "outputs": [
    {
     "data": {
      "text/plain": [
       "<matplotlib.collections.PathCollection at 0x7fa928d180a0>"
      ]
     },
     "execution_count": 2,
     "metadata": {},
     "output_type": "execute_result"
    },
    {
     "data": {
      "image/png": "[encoded data removed]",
      "text/plain": [
       "<Figure size 432x288 with 1 Axes>"
      ]
     },
     "metadata": {
      "needs_background": "light"
     },
     "output_type": "display_data"
    }
   ],
   "source": [
    "import matplotlib.pyplot as plt\n",
    "\n",
    "fig , ax = plt.subplots()\n",
    "ax.scatter(x_train[:,0], y_train , color=['blue','blue' , 'blue' , 'red' , 'red','red'])"
   ]
  },
  {
   "cell_type": "code",
   "execution_count": 3,
   "metadata": {},
   "outputs": [],
   "source": [
    "def sigmoid(z):\n",
    "    return 1 / (1 + np.exp(-z))"
   ]
  },
  {
   "cell_type": "code",
   "execution_count": 4,
   "metadata": {},
   "outputs": [
    {
     "data": {
      "text/plain": [
       "0.998498817743263"
      ]
     },
     "execution_count": 4,
     "metadata": {},
     "output_type": "execute_result"
    }
   ],
   "source": [
    "w = np.array([2.,3.])\n",
    "b = 1.0\n",
    "sigmoid (np.dot (x_train[0] , w) + b)"
   ]
  },
  {
   "cell_type": "code",
   "execution_count": 5,
   "metadata": {},
   "outputs": [],
   "source": [
    "# when y is zero -(1 - y) * log(1 - gz)\n",
    "# when y is one  -y * log(gz)\n",
    "# simplified equation -y * log(gz) - (1 - y) * log(1 - gz)\n",
    "def cost_function(x, y, w, b):\n",
    "    t_count = x.shape[0]\n",
    "    cost = 0\n",
    "    for i in range (t_count):\n",
    "        sig = sigmoid(np.dot(x[i], w) + b)\n",
    "        loss = -y[i] * np.log(sig) - (1 - y[i]) * np.log(1 - sig)\n",
    "        cost += loss\n",
    "    return cost / t_count"
   ]
  },
  {
   "cell_type": "code",
   "execution_count": 6,
   "metadata": {},
   "outputs": [
    {
     "data": {
      "text/plain": [
       "3.0013840206452973"
      ]
     },
     "execution_count": 6,
     "metadata": {},
     "output_type": "execute_result"
    }
   ],
   "source": [
    "cost_function(x_train, y_train, w, b)"
   ]
  },
  {
   "cell_type": "code",
   "execution_count": 7,
   "metadata": {},
   "outputs": [],
   "source": [
    "def logistic_regression(x, y, w, b):\n",
    "    m = x.shape[0]\n",
    "    dw = np.zeros(w.shape[0]) \n",
    "    db = 0\n",
    "    for i in range(m):\n",
    "        sig = sigmoid(np.dot(x[i], w) + b) - y[i]\n",
    "        db += sig\n",
    "        dw += sig * x[i]\n",
    "    return (dw / m, db / m)   "
   ]
  },
  {
   "cell_type": "code",
   "execution_count": 8,
   "metadata": {},
   "outputs": [
    {
     "data": {
      "text/plain": [
       "(array([0.49833339, 0.49883943]), 0.49861806546328574)"
      ]
     },
     "execution_count": 8,
     "metadata": {},
     "output_type": "execute_result"
    }
   ],
   "source": [
    "logistic_regression(x_train, y_train, w, b)"
   ]
  },
  {
   "cell_type": "code",
   "execution_count": 9,
   "metadata": {},
   "outputs": [],
   "source": [
    "def train(x, y, w, b, alpha, itr):\n",
    "    cost_history = []\n",
    "    for i in range(itr):\n",
    "        cost_history.append(cost_function(x, y, w, b))\n",
    "        dw, db = logistic_regression(x, y, w, b)\n",
    "        w -= alpha * dw\n",
    "        b -= alpha * db\n",
    "    return (w , b)"
   ]
  },
  {
   "cell_type": "code",
   "execution_count": 10,
   "metadata": {},
   "outputs": [
    {
     "name": "stdout",
     "output_type": "stream",
     "text": [
      "w_final -> [5.28123029 5.07815608] b -> -14.222409982019837\n"
     ]
    }
   ],
   "source": [
    "alpha = 0.1\n",
    "itr = 10000\n",
    "b = 0.\n",
    "w = np.array([0. , 0.])\n",
    "w_final , b_final = train(x_train, y_train, w, b, alpha, itr)\n",
    "print(f\"w_final -> {w_final} b -> {b_final}\")"
   ]
  },
  {
   "cell_type": "code",
   "execution_count": 11,
   "metadata": {},
   "outputs": [
    {
     "data": {
      "text/plain": [
       "0.9812435815035075"
      ]
     },
     "execution_count": 11,
     "metadata": {},
     "output_type": "execute_result"
    }
   ],
   "source": [
    "# threshold value 0.5\n",
    "# any value greate then 0.5 is 1 otherwise 0\n",
    "predict = sigmoid(np.dot(np.array([2, 1.5]), w_final) + b_final)\n",
    "predict"
   ]
  }
 ],
 "metadata": {
  "kernelspec": {
   "display_name": "Python 3 (ipykernel)",
   "language": "python",
   "name": "python3"
  },
  "language_info": {
   "codemirror_mode": {
    "name": "ipython",
    "version": 3
   },
   "file_extension": ".py",
   "mimetype": "text/x-python",
   "name": "python",
   "nbconvert_exporter": "python",
   "pygments_lexer": "ipython3",
   "version": "3.9.12"
  }
 },
 "nbformat": 4,
 "nbformat_minor": 4
}
